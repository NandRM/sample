x = "Hi"
print(x)

x = 5
print(x)

